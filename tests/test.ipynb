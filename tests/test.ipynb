{
 "cells": [
  {
   "cell_type": "code",
   "execution_count": 65,
   "metadata": {},
   "outputs": [
    {
     "name": "stdout",
     "output_type": "stream",
     "text": [
      "exception:unbalanced parenthesis at position 81\n"
     ]
    }
   ],
   "source": [
    "import re\n",
    "\n",
    "\n",
    "text = '123 456 789 234'\n",
    "try:\n",
    "    pattern = re.compile(r'(?P<time>[-+]?\\d*\\.*\\d+)\\s+([-+]?\\d*\\.*\\d+)\\s+([-+]?\\d*\\.*\\d+)\\s+([-+]?\\d*\\.*\\d+))')\n",
    "    print(pattern.groupindex)\n",
    "\n",
    "    match = pattern.findall(text)\n",
    "    print(match)\n",
    "    # print(match.groupdict(), match.groups())\n",
    "except re.error as e:\n",
    "    print(f\"exception:{e}\")"
   ]
  },
  {
   "cell_type": "code",
   "execution_count": 59,
   "metadata": {},
   "outputs": [
    {
     "name": "stdout",
     "output_type": "stream",
     "text": [
      "{}\n",
      "('232', '123')\n"
     ]
    }
   ],
   "source": [
    "text = 'x:232 q:123.3'\n",
    "pattern = re.compile(r'x:(\\d+)\\s+q:(\\d+)')\n",
    "print(pattern.groupindex)\n",
    "\n",
    "match = pattern.match(text)\n",
    "print(match.groups())"
   ]
  }
 ],
 "metadata": {
  "kernelspec": {
   "display_name": "venv",
   "language": "python",
   "name": "python3"
  },
  "language_info": {
   "codemirror_mode": {
    "name": "ipython",
    "version": 3
   },
   "file_extension": ".py",
   "mimetype": "text/x-python",
   "name": "python",
   "nbconvert_exporter": "python",
   "pygments_lexer": "ipython3",
   "version": "3.8.10"
  }
 },
 "nbformat": 4,
 "nbformat_minor": 2
}
