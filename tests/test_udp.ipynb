{
 "cells": [
  {
   "cell_type": "code",
   "execution_count": null,
   "metadata": {},
   "outputs": [],
   "source": [
    "import socket\n",
    "import time\n",
    "\n",
    "def send_udp_data(message, server_address, server_port, repeat=1, interval=1):\n",
    "    \"\"\"\n",
    "    Sends a message via UDP to a specified server and port.\n",
    "    \n",
    "    Args:\n",
    "        message (str): The message to send.\n",
    "        server_address (str): The IP address of the UDP server.\n",
    "        server_port (int): The port number of the UDP server.\n",
    "        repeat (int): Number of times to repeat sending the message.\n",
    "        interval (float): Interval in seconds between each message.\n",
    "    \"\"\"\n",
    "    # Create a UDP socket\n",
    "    sock = socket.socket(socket.AF_INET, socket.SOCK_DGRAM)\n",
    "\n",
    "    try:\n",
    "        for i in range(repeat):\n",
    "            # Send the message to the server\n",
    "            print(f\"Sending message: {message} to {server_address}:{server_port} (Iteration {i + 1})\")\n",
    "            sent = sock.sendto(message.encode(), (server_address, server_port))\n",
    "            \n",
    "            # Wait for the specified interval before sending the next message\n",
    "            time.sleep(interval)\n",
    "    \n",
    "    finally:\n",
    "        # Close the socket\n",
    "        print(\"Closing the socket\")\n",
    "        sock.close()\n",
    "\n",
    "if __name__ == \"__main__\":\n",
    "    server_ip = \"127.0.0.1\"  # The IP address of the server (loopback for local testing)\n",
    "    server_port = 5005        # The port number to connect to\n",
    "\n",
    "    # The message to be sent\n",
    "    message = \"10.00 20.00\\r\\n\"\n",
    "\n",
    "    # Send the UDP message 5 times with a 2-second interval\n",
    "    send_udp_data(message, server_ip, server_port, repeat=int(1e6), interval=0.1)\n"
   ]
  }
 ],
 "metadata": {
  "kernelspec": {
   "display_name": "venv",
   "language": "python",
   "name": "python3"
  },
  "language_info": {
   "codemirror_mode": {
    "name": "ipython",
    "version": 3
   },
   "file_extension": ".py",
   "mimetype": "text/x-python",
   "name": "python",
   "nbconvert_exporter": "python",
   "pygments_lexer": "ipython3",
   "version": "3.11.0"
  }
 },
 "nbformat": 4,
 "nbformat_minor": 2
}
